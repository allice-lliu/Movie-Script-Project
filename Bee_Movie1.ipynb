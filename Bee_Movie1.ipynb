{
  "nbformat": 4,
  "nbformat_minor": 0,
  "metadata": {
    "colab": {
      "name": "Bee_Movie1.ipynb",
      "provenance": [],
      "collapsed_sections": [],
      "include_colab_link": true
    },
    "kernelspec": {
      "name": "python3",
      "display_name": "Python 3"
    },
    "accelerator": "GPU"
  },
  "cells": [
    {
      "cell_type": "markdown",
      "metadata": {
        "id": "view-in-github",
        "colab_type": "text"
      },
      "source": [
        "<a href=\"https://colab.research.google.com/github/allice-lliu/Movie-Script-Project/blob/main/Bee_Movie1.ipynb\" target=\"_parent\"><img src=\"https://colab.research.google.com/assets/colab-badge.svg\" alt=\"Open In Colab\"/></a>"
      ]
    },
    {
      "cell_type": "code",
      "metadata": {
        "id": "QOL_O7prTPO0",
        "colab": {
          "base_uri": "https://localhost:8080/",
          "height": 34
        },
        "outputId": "da1e55a3-d8d6-45b5-bc00-f21d76116f5a"
      },
      "source": [
        "from google.colab import drive\n",
        "drive.mount('/content/drive')"
      ],
      "execution_count": null,
      "outputs": [
        {
          "output_type": "stream",
          "text": [
            "Drive already mounted at /content/drive; to attempt to forcibly remount, call drive.mount(\"/content/drive\", force_remount=True).\n"
          ],
          "name": "stdout"
        }
      ]
    },
    {
      "cell_type": "code",
      "metadata": {
        "id": "mVbybeqh6FLc"
      },
      "source": [
        "import tensorflow as tf\n",
        "import numpy as np\n",
        "import os\n",
        "import time"
      ],
      "execution_count": null,
      "outputs": []
    },
    {
      "cell_type": "code",
      "metadata": {
        "id": "LwLKhRhI6Qaa",
        "colab": {
          "base_uri": "https://localhost:8080/",
          "height": 34
        },
        "outputId": "d212503d-205c-4ce0-b780-57d5c274338b"
      },
      "source": [
        "#path_to_file = tf.keras.utils.get_file('script_1.txt', '/content/drive/My Drive/script_1.txt')\n",
        "path_to_file = '/content/drive/My Drive/Bee Movie Project/script_1.txt'\n",
        "print(path_to_file)"
      ],
      "execution_count": null,
      "outputs": [
        {
          "output_type": "stream",
          "text": [
            "/content/drive/My Drive/Bee Movie Project/script_1.txt\n"
          ],
          "name": "stdout"
        }
      ]
    },
    {
      "cell_type": "code",
      "metadata": {
        "id": "rGFjJtnJ7Fhg",
        "colab": {
          "base_uri": "https://localhost:8080/",
          "height": 34
        },
        "outputId": "8204c8f1-0983-481d-b3e6-8bd42f8b9049"
      },
      "source": [
        "# Read, then decode for py2 compat.\n",
        "text = open(path_to_file, 'rb').read().decode(encoding='utf-8')\n",
        "# length of text is the number of characters in it\n",
        "print ('Length of text: {} characters'.format(len(text)))"
      ],
      "execution_count": null,
      "outputs": [
        {
          "output_type": "stream",
          "text": [
            "Length of text: 50139 characters\n"
          ],
          "name": "stdout"
        }
      ]
    },
    {
      "cell_type": "code",
      "metadata": {
        "id": "Qr2AnrnI7Kzg",
        "colab": {
          "base_uri": "https://localhost:8080/",
          "height": 34
        },
        "outputId": "e5ec59af-8475-4de7-baf8-9ec292318a67"
      },
      "source": [
        "# The unique characters in the file\n",
        "vocab = sorted(set(text))\n",
        "print ('{} unique characters'.format(len(vocab)))"
      ],
      "execution_count": null,
      "outputs": [
        {
          "output_type": "stream",
          "text": [
            "69 unique characters\n"
          ],
          "name": "stdout"
        }
      ]
    },
    {
      "cell_type": "code",
      "metadata": {
        "id": "AYIlAfE_7Pa9"
      },
      "source": [
        "# Creating a mapping from unique characters to indices\n",
        "char2idx = {u:i for i, u in enumerate(vocab)}\n",
        "idx2char = np.array(vocab)\n",
        "\n",
        "text_as_int = np.array([char2idx[c] for c in text])"
      ],
      "execution_count": null,
      "outputs": []
    },
    {
      "cell_type": "code",
      "metadata": {
        "id": "gXYA0Ryv7Sad",
        "colab": {
          "base_uri": "https://localhost:8080/",
          "height": 408
        },
        "outputId": "6950ff51-a116-4e2c-b168-8e46cc1b91c8"
      },
      "source": [
        "print('{')\n",
        "for char,_ in zip(char2idx, range(20)):\n",
        "    print('  {:4s}: {:3d},'.format(repr(char), char2idx[char]))\n",
        "print('  ...\\n}')"
      ],
      "execution_count": null,
      "outputs": [
        {
          "output_type": "stream",
          "text": [
            "{\n",
            "  ' ' :   0,\n",
            "  '!' :   1,\n",
            "  '\"' :   2,\n",
            "  \"'\" :   3,\n",
            "  ',' :   4,\n",
            "  '-' :   5,\n",
            "  '.' :   6,\n",
            "  '0' :   7,\n",
            "  '1' :   8,\n",
            "  '2' :   9,\n",
            "  '3' :  10,\n",
            "  '4' :  11,\n",
            "  '5' :  12,\n",
            "  '6' :  13,\n",
            "  '7' :  14,\n",
            "  '8' :  15,\n",
            "  '9' :  16,\n",
            "  ':' :  17,\n",
            "  '?' :  18,\n",
            "  'A' :  19,\n",
            "  ...\n",
            "}\n"
          ],
          "name": "stdout"
        }
      ]
    },
    {
      "cell_type": "code",
      "metadata": {
        "id": "alsiPOzR7aZ2",
        "colab": {
          "base_uri": "https://localhost:8080/",
          "height": 102
        },
        "outputId": "b61c903c-bbc8-4f62-b0ea-2a1f8bada4c2"
      },
      "source": [
        "# The maximum length sentence we want for a single input in characters\n",
        "seq_length = 100\n",
        "examples_per_epoch = len(text)//(seq_length+1)\n",
        "\n",
        "# Create training examples / targets\n",
        "char_dataset = tf.data.Dataset.from_tensor_slices(text_as_int)\n",
        "\n",
        "for i in char_dataset.take(5):\n",
        "  print(idx2char[i.numpy()])"
      ],
      "execution_count": null,
      "outputs": [
        {
          "output_type": "stream",
          "text": [
            "﻿\n",
            "A\n",
            "c\n",
            "c\n",
            "o\n"
          ],
          "name": "stdout"
        }
      ]
    },
    {
      "cell_type": "code",
      "metadata": {
        "id": "QyFMSLSX7dea",
        "colab": {
          "base_uri": "https://localhost:8080/",
          "height": 102
        },
        "outputId": "1aa3c47b-8be7-4d08-a6c3-41d9274946b4"
      },
      "source": [
        "sequences = char_dataset.batch(seq_length+1, drop_remainder=True)\n",
        "\n",
        "for item in sequences.take(5):\n",
        "  print(repr(''.join(idx2char[item.numpy()])))"
      ],
      "execution_count": null,
      "outputs": [
        {
          "output_type": "stream",
          "text": [
            "'\\ufeffAccording to all known laws of aviation, there is no way a bee should be able to fly. Its wings are '\n",
            "'too small to get its fat little body off the ground. The bee, of course, flies anyway because bees do'\n",
            "\"n't care what humans think is impossible. Yellow, black. Yellow, black. Yellow, black. Yellow, black.\"\n",
            "\" Ooh, black and yellow! Let's shake it up a little. Barry! Breakfast is ready! Ooming! Hang on a seco\"\n",
            "\"nd. Hello? - Barry? - Adam? - Oan you believe this is happening? - I can't. I'll pick you up. Looking\"\n"
          ],
          "name": "stdout"
        }
      ]
    },
    {
      "cell_type": "code",
      "metadata": {
        "id": "r-yctCOG7f5u"
      },
      "source": [
        "def split_input_target(chunk):\n",
        "    input_text = chunk[:-1]\n",
        "    target_text = chunk[1:]\n",
        "    return input_text, target_text\n",
        "\n",
        "dataset = sequences.map(split_input_target)"
      ],
      "execution_count": null,
      "outputs": []
    },
    {
      "cell_type": "code",
      "metadata": {
        "id": "QaKXgetL7iQu",
        "colab": {
          "base_uri": "https://localhost:8080/",
          "height": 51
        },
        "outputId": "a69db9a6-97e1-4294-98c3-af5de87c5019"
      },
      "source": [
        "for input_example, target_example in  dataset.take(1):\n",
        "  print ('Input data: ', repr(''.join(idx2char[input_example.numpy()])))\n",
        "  print ('Target data:', repr(''.join(idx2char[target_example.numpy()])))"
      ],
      "execution_count": null,
      "outputs": [
        {
          "output_type": "stream",
          "text": [
            "Input data:  '\\ufeffAccording to all known laws of aviation, there is no way a bee should be able to fly. Its wings are'\n",
            "Target data: 'According to all known laws of aviation, there is no way a bee should be able to fly. Its wings are '\n"
          ],
          "name": "stdout"
        }
      ]
    },
    {
      "cell_type": "code",
      "metadata": {
        "id": "3KxeJN9_7kcz",
        "colab": {
          "base_uri": "https://localhost:8080/",
          "height": 272
        },
        "outputId": "8afb47c9-0cd6-4d51-8630-b96c1bd2976a"
      },
      "source": [
        "for i, (input_idx, target_idx) in enumerate(zip(input_example[:5], target_example[:5])):\n",
        "    print(\"Step {:4d}\".format(i))\n",
        "    print(\"  input: {} ({:s})\".format(input_idx, repr(idx2char[input_idx])))\n",
        "    print(\"  expected output: {} ({:s})\".format(target_idx, repr(idx2char[target_idx])))"
      ],
      "execution_count": null,
      "outputs": [
        {
          "output_type": "stream",
          "text": [
            "Step    0\n",
            "  input: 68 ('\\ufeff')\n",
            "  expected output: 19 ('A')\n",
            "Step    1\n",
            "  input: 19 ('A')\n",
            "  expected output: 44 ('c')\n",
            "Step    2\n",
            "  input: 44 ('c')\n",
            "  expected output: 44 ('c')\n",
            "Step    3\n",
            "  input: 44 ('c')\n",
            "  expected output: 56 ('o')\n",
            "Step    4\n",
            "  input: 56 ('o')\n",
            "  expected output: 59 ('r')\n"
          ],
          "name": "stdout"
        }
      ]
    },
    {
      "cell_type": "code",
      "metadata": {
        "id": "pmX8OgsY7oJF",
        "colab": {
          "base_uri": "https://localhost:8080/",
          "height": 34
        },
        "outputId": "75fbf55a-9530-4981-d77b-b092d9336e9f"
      },
      "source": [
        "# Batch size\n",
        "BATCH_SIZE = 64\n",
        "\n",
        "# Buffer size to shuffle the dataset\n",
        "# (TF data is designed to work with possibly infinite sequences,\n",
        "# so it doesn't attempt to shuffle the entire sequence in memory. Instead,\n",
        "# it maintains a buffer in which it shuffles elements).\n",
        "BUFFER_SIZE = 10000\n",
        "\n",
        "dataset = dataset.shuffle(BUFFER_SIZE).batch(BATCH_SIZE, drop_remainder=True)\n",
        "\n",
        "dataset"
      ],
      "execution_count": null,
      "outputs": [
        {
          "output_type": "execute_result",
          "data": {
            "text/plain": [
              "<BatchDataset shapes: ((64, 100), (64, 100)), types: (tf.int64, tf.int64)>"
            ]
          },
          "metadata": {
            "tags": []
          },
          "execution_count": 19
        }
      ]
    },
    {
      "cell_type": "code",
      "metadata": {
        "id": "wnRam0lc7rUP"
      },
      "source": [
        "# Length of the vocabulary in chars\n",
        "vocab_size = len(vocab)\n",
        "\n",
        "# The embedding dimension\n",
        "embedding_dim = 256\n",
        "\n",
        "# Number of RNN units\n",
        "rnn_units = 1024"
      ],
      "execution_count": null,
      "outputs": []
    },
    {
      "cell_type": "code",
      "metadata": {
        "id": "EjPxEG6u7tqv"
      },
      "source": [
        "def build_model(vocab_size, embedding_dim, rnn_units, batch_size):\n",
        "  model = tf.keras.Sequential([\n",
        "    tf.keras.layers.Embedding(vocab_size, embedding_dim,\n",
        "                              batch_input_shape=[batch_size, None]),\n",
        "    tf.keras.layers.GRU(rnn_units,\n",
        "                        return_sequences=True,\n",
        "                        stateful=True,\n",
        "                        recurrent_initializer='glorot_uniform'),\n",
        "    tf.keras.layers.Dense(vocab_size)\n",
        "  ])\n",
        "  return model"
      ],
      "execution_count": null,
      "outputs": []
    },
    {
      "cell_type": "code",
      "metadata": {
        "id": "BsOlrz9B7v2F"
      },
      "source": [
        "model = build_model(\n",
        "  vocab_size = len(vocab),\n",
        "  embedding_dim=embedding_dim,\n",
        "  rnn_units=rnn_units,\n",
        "  batch_size=BATCH_SIZE)"
      ],
      "execution_count": null,
      "outputs": []
    },
    {
      "cell_type": "code",
      "metadata": {
        "id": "rGtZgYAy7z-6",
        "colab": {
          "base_uri": "https://localhost:8080/",
          "height": 34
        },
        "outputId": "6ed47de8-6203-4f93-f44b-68cebdc60663"
      },
      "source": [
        "for input_example_batch, target_example_batch in dataset.take(1):\n",
        "  example_batch_predictions = model(input_example_batch)\n",
        "  print(example_batch_predictions.shape, \"# (batch_size, sequence_length, vocab_size)\")"
      ],
      "execution_count": null,
      "outputs": [
        {
          "output_type": "stream",
          "text": [
            "(64, 100, 69) # (batch_size, sequence_length, vocab_size)\n"
          ],
          "name": "stdout"
        }
      ]
    },
    {
      "cell_type": "code",
      "metadata": {
        "id": "LYPOOCPQ73UK",
        "colab": {
          "base_uri": "https://localhost:8080/",
          "height": 255
        },
        "outputId": "16599310-c259-4cd9-c261-9af63b207872"
      },
      "source": [
        "model.summary()"
      ],
      "execution_count": null,
      "outputs": [
        {
          "output_type": "stream",
          "text": [
            "Model: \"sequential\"\n",
            "_________________________________________________________________\n",
            "Layer (type)                 Output Shape              Param #   \n",
            "=================================================================\n",
            "embedding (Embedding)        (64, None, 256)           17664     \n",
            "_________________________________________________________________\n",
            "gru (GRU)                    (64, None, 1024)          3938304   \n",
            "_________________________________________________________________\n",
            "dense (Dense)                (64, None, 69)            70725     \n",
            "=================================================================\n",
            "Total params: 4,026,693\n",
            "Trainable params: 4,026,693\n",
            "Non-trainable params: 0\n",
            "_________________________________________________________________\n"
          ],
          "name": "stdout"
        }
      ]
    },
    {
      "cell_type": "code",
      "metadata": {
        "id": "LskLZKKI74vx",
        "colab": {
          "base_uri": "https://localhost:8080/",
          "height": 119
        },
        "outputId": "5dd104db-6c9a-45ea-942c-9640235b1496"
      },
      "source": [
        "sampled_indices = tf.random.categorical(example_batch_predictions[0], num_samples=1)\n",
        "sampled_indices = tf.squeeze(sampled_indices,axis=-1).numpy()\n",
        "sampled_indices"
      ],
      "execution_count": null,
      "outputs": [
        {
          "output_type": "execute_result",
          "data": {
            "text/plain": [
              "array([40, 12,  0, 54, 54, 62, 68,  7, 21, 37,  0,  2, 59, 10, 49,  7, 19,\n",
              "        1, 24, 44,  3, 42, 39,  7,  5, 46, 64,  5, 24,  7, 38, 22, 58, 66,\n",
              "       26, 10, 16, 40, 15, 33, 32,  9, 37, 52, 29, 18, 45, 56, 37, 64, 14,\n",
              "       32, 38, 34, 36, 33, 22, 54, 20, 60, 39, 11, 39, 27,  1, 50, 46, 44,\n",
              "       54, 66, 19, 53, 31, 22,  1, 45, 43, 57, 21, 29, 29, 32, 25, 33, 11,\n",
              "       54,  7, 33, 68, 43, 66, 18, 41, 34, 51, 58, 63, 50, 18, 42])"
            ]
          },
          "metadata": {
            "tags": []
          },
          "execution_count": 25
        }
      ]
    },
    {
      "cell_type": "code",
      "metadata": {
        "id": "Mz6ZgGfp766H",
        "colab": {
          "base_uri": "https://localhost:8080/",
          "height": 102
        },
        "outputId": "d65e304e-c3fc-4500-bbac-7249e169114f"
      },
      "source": [
        "print(\"Input: \\n\", repr(\"\".join(idx2char[input_example_batch[0]])))\n",
        "print()\n",
        "print(\"Next Char Predictions: \\n\", repr(\"\".join(idx2char[sampled_indices ])))"
      ],
      "execution_count": null,
      "outputs": [
        {
          "output_type": "stream",
          "text": [
            "Input: \n",
            " \"! Hold it, Your Honor! You want a smoking gun? Here is your smoking gun. What is that? It's a bee sm\"\n",
            "\n",
            "Next Char Predictions: \n",
            " 'W5 mmu\\ufeff0DT \"r3h0A!Gc\\'aV0-ew-G0UEqyI39W8PO2TkL?doTw7OUQSPEmBsV4VJ!iecmyAlNE!dbpDLLOHP4m0P\\ufeffby?YQjqvi?a'\n"
          ],
          "name": "stdout"
        }
      ]
    },
    {
      "cell_type": "code",
      "metadata": {
        "id": "7Drbrwpj8gCw",
        "colab": {
          "base_uri": "https://localhost:8080/",
          "height": 51
        },
        "outputId": "a8989c7b-aa04-4304-f3e8-430b58864f70"
      },
      "source": [
        "def loss(labels, logits):\n",
        "  return tf.keras.losses.sparse_categorical_crossentropy(labels, logits, from_logits=True)\n",
        "\n",
        "example_batch_loss  = loss(target_example_batch, example_batch_predictions)\n",
        "print(\"Prediction shape: \", example_batch_predictions.shape, \" # (batch_size, sequence_length, vocab_size)\")\n",
        "print(\"scalar_loss:      \", example_batch_loss.numpy().mean())"
      ],
      "execution_count": null,
      "outputs": [
        {
          "output_type": "stream",
          "text": [
            "Prediction shape:  (64, 100, 69)  # (batch_size, sequence_length, vocab_size)\n",
            "scalar_loss:       4.232881\n"
          ],
          "name": "stdout"
        }
      ]
    },
    {
      "cell_type": "code",
      "metadata": {
        "id": "zyRIMHu58hDt"
      },
      "source": [
        "model.compile(optimizer='adam', loss=loss)"
      ],
      "execution_count": null,
      "outputs": []
    },
    {
      "cell_type": "code",
      "metadata": {
        "id": "0oztHgQ88jjt"
      },
      "source": [
        "# Directory where the checkpoints will be saved\n",
        "checkpoint_dir = './training_checkpoints'\n",
        "# Name of the checkpoint files\n",
        "checkpoint_prefix = os.path.join(checkpoint_dir, \"ckpt_{epoch}\")\n",
        "\n",
        "checkpoint_callback=tf.keras.callbacks.ModelCheckpoint(\n",
        "    filepath=checkpoint_prefix,\n",
        "    save_weights_only=True)"
      ],
      "execution_count": null,
      "outputs": []
    },
    {
      "cell_type": "code",
      "metadata": {
        "id": "YI0pr-CJ8lT6",
        "colab": {
          "base_uri": "https://localhost:8080/",
          "height": 1000
        },
        "outputId": "14d2a38f-827c-41f5-a342-69a7c36c1770"
      },
      "source": [
        "history = model.fit(dataset, epochs=400, callbacks=[checkpoint_callback])"
      ],
      "execution_count": null,
      "outputs": [
        {
          "output_type": "stream",
          "text": [
            "Epoch 1/400\n",
            "7/7 [==============================] - 1s 140ms/step - loss: 4.7048\n",
            "Epoch 2/400\n",
            "7/7 [==============================] - 1s 153ms/step - loss: 3.8303\n",
            "Epoch 3/400\n",
            "7/7 [==============================] - 1s 151ms/step - loss: 3.5242\n",
            "Epoch 4/400\n",
            "7/7 [==============================] - 1s 128ms/step - loss: 3.1566\n",
            "Epoch 5/400\n",
            "7/7 [==============================] - 1s 160ms/step - loss: 3.0131\n",
            "Epoch 6/400\n",
            "7/7 [==============================] - 1s 126ms/step - loss: 2.8937\n",
            "Epoch 7/400\n",
            "7/7 [==============================] - 1s 159ms/step - loss: 2.7396\n",
            "Epoch 8/400\n",
            "7/7 [==============================] - 1s 152ms/step - loss: 2.6007\n",
            "Epoch 9/400\n",
            "7/7 [==============================] - 1s 126ms/step - loss: 2.4999\n",
            "Epoch 10/400\n",
            "7/7 [==============================] - 1s 160ms/step - loss: 2.4291\n",
            "Epoch 11/400\n",
            "7/7 [==============================] - 1s 152ms/step - loss: 2.3780\n",
            "Epoch 12/400\n",
            "7/7 [==============================] - 1s 169ms/step - loss: 2.3375\n",
            "Epoch 13/400\n",
            "7/7 [==============================] - 1s 126ms/step - loss: 2.3074\n",
            "Epoch 14/400\n",
            "7/7 [==============================] - 1s 158ms/step - loss: 2.2796\n",
            "Epoch 15/400\n",
            "7/7 [==============================] - 1s 126ms/step - loss: 2.2612\n",
            "Epoch 16/400\n",
            "7/7 [==============================] - 1s 159ms/step - loss: 2.2329\n",
            "Epoch 17/400\n",
            "7/7 [==============================] - 1s 154ms/step - loss: 2.2164\n",
            "Epoch 18/400\n",
            "7/7 [==============================] - 1s 127ms/step - loss: 2.1918\n",
            "Epoch 19/400\n",
            "7/7 [==============================] - 1s 159ms/step - loss: 2.1728\n",
            "Epoch 20/400\n",
            "7/7 [==============================] - 1s 154ms/step - loss: 2.1484\n",
            "Epoch 21/400\n",
            "7/7 [==============================] - 1s 126ms/step - loss: 2.1225\n",
            "Epoch 22/400\n",
            "7/7 [==============================] - 1s 161ms/step - loss: 2.1025\n",
            "Epoch 23/400\n",
            "7/7 [==============================] - 1s 127ms/step - loss: 2.0771\n",
            "Epoch 24/400\n",
            "7/7 [==============================] - 1s 161ms/step - loss: 2.0573\n",
            "Epoch 25/400\n",
            "7/7 [==============================] - 1s 126ms/step - loss: 2.0283\n",
            "Epoch 26/400\n",
            "7/7 [==============================] - 1s 161ms/step - loss: 2.0080\n",
            "Epoch 27/400\n",
            "7/7 [==============================] - 1s 153ms/step - loss: 1.9789\n",
            "Epoch 28/400\n",
            "7/7 [==============================] - 1s 128ms/step - loss: 1.9557\n",
            "Epoch 29/400\n",
            "7/7 [==============================] - 1s 161ms/step - loss: 1.9346\n",
            "Epoch 30/400\n",
            "7/7 [==============================] - 1s 151ms/step - loss: 1.9088\n",
            "Epoch 31/400\n",
            "7/7 [==============================] - 1s 137ms/step - loss: 1.8924\n",
            "Epoch 32/400\n",
            "7/7 [==============================] - 1s 126ms/step - loss: 1.8699\n",
            "Epoch 33/400\n",
            "7/7 [==============================] - 1s 160ms/step - loss: 1.8447\n",
            "Epoch 34/400\n",
            "7/7 [==============================] - 1s 152ms/step - loss: 1.8209\n",
            "Epoch 35/400\n",
            "7/7 [==============================] - 1s 170ms/step - loss: 1.7995\n",
            "Epoch 36/400\n",
            "7/7 [==============================] - 1s 127ms/step - loss: 1.7800\n",
            "Epoch 37/400\n",
            "7/7 [==============================] - 1s 160ms/step - loss: 1.7595\n",
            "Epoch 38/400\n",
            "7/7 [==============================] - 1s 127ms/step - loss: 1.7409\n",
            "Epoch 39/400\n",
            "7/7 [==============================] - 1s 158ms/step - loss: 1.7120\n",
            "Epoch 40/400\n",
            "7/7 [==============================] - 1s 151ms/step - loss: 1.6930\n",
            "Epoch 41/400\n",
            "7/7 [==============================] - 1s 128ms/step - loss: 1.6651\n",
            "Epoch 42/400\n",
            "7/7 [==============================] - 1s 159ms/step - loss: 1.6467\n",
            "Epoch 43/400\n",
            "7/7 [==============================] - 1s 153ms/step - loss: 1.6238\n",
            "Epoch 44/400\n",
            "7/7 [==============================] - 1s 125ms/step - loss: 1.5988\n",
            "Epoch 45/400\n",
            "7/7 [==============================] - 1s 159ms/step - loss: 1.5723\n",
            "Epoch 46/400\n",
            "7/7 [==============================] - 1s 128ms/step - loss: 1.5456\n",
            "Epoch 47/400\n",
            "7/7 [==============================] - 1s 160ms/step - loss: 1.5221\n",
            "Epoch 48/400\n",
            "7/7 [==============================] - 1s 153ms/step - loss: 1.4915\n",
            "Epoch 49/400\n",
            "7/7 [==============================] - 1s 169ms/step - loss: 1.4742\n",
            "Epoch 50/400\n",
            "7/7 [==============================] - 1s 158ms/step - loss: 1.4398\n",
            "Epoch 51/400\n",
            "7/7 [==============================] - 1s 128ms/step - loss: 1.4104\n",
            "Epoch 52/400\n",
            "7/7 [==============================] - 1s 159ms/step - loss: 1.3771\n",
            "Epoch 53/400\n",
            "7/7 [==============================] - 1s 153ms/step - loss: 1.3459\n",
            "Epoch 54/400\n",
            "7/7 [==============================] - 1s 188ms/step - loss: 1.3161\n",
            "Epoch 55/400\n",
            "7/7 [==============================] - 1s 126ms/step - loss: 1.2897\n",
            "Epoch 56/400\n",
            "7/7 [==============================] - 1s 159ms/step - loss: 1.2547\n",
            "Epoch 57/400\n",
            "7/7 [==============================] - 1s 151ms/step - loss: 1.2216\n",
            "Epoch 58/400\n",
            "7/7 [==============================] - 1s 185ms/step - loss: 1.1830\n",
            "Epoch 59/400\n",
            "7/7 [==============================] - 1s 126ms/step - loss: 1.1486\n",
            "Epoch 60/400\n",
            "7/7 [==============================] - 1s 160ms/step - loss: 1.1155\n",
            "Epoch 61/400\n",
            "7/7 [==============================] - 1s 153ms/step - loss: 1.0845\n",
            "Epoch 62/400\n",
            "7/7 [==============================] - 1s 128ms/step - loss: 1.0399\n",
            "Epoch 63/400\n",
            "7/7 [==============================] - 1s 159ms/step - loss: 1.0003\n",
            "Epoch 64/400\n",
            "7/7 [==============================] - 1s 151ms/step - loss: 0.9626\n",
            "Epoch 65/400\n",
            "7/7 [==============================] - 1s 133ms/step - loss: 0.9267\n",
            "Epoch 66/400\n",
            "7/7 [==============================] - 1s 126ms/step - loss: 0.8816\n",
            "Epoch 67/400\n",
            "7/7 [==============================] - 1s 161ms/step - loss: 0.8433\n",
            "Epoch 68/400\n",
            "7/7 [==============================] - 1s 152ms/step - loss: 0.8027\n",
            "Epoch 69/400\n",
            "7/7 [==============================] - 1s 169ms/step - loss: 0.7697\n",
            "Epoch 70/400\n",
            "7/7 [==============================] - 1s 160ms/step - loss: 0.7302\n",
            "Epoch 71/400\n",
            "7/7 [==============================] - 1s 153ms/step - loss: 0.6873\n",
            "Epoch 72/400\n",
            "7/7 [==============================] - 1s 126ms/step - loss: 0.6523\n",
            "Epoch 73/400\n",
            "7/7 [==============================] - 1s 159ms/step - loss: 0.6133\n",
            "Epoch 74/400\n",
            "7/7 [==============================] - 1s 151ms/step - loss: 0.5747\n",
            "Epoch 75/400\n",
            "7/7 [==============================] - 1s 190ms/step - loss: 0.5456\n",
            "Epoch 76/400\n",
            "7/7 [==============================] - 1s 124ms/step - loss: 0.5104\n",
            "Epoch 77/400\n",
            "7/7 [==============================] - 1s 159ms/step - loss: 0.4846\n",
            "Epoch 78/400\n",
            "7/7 [==============================] - 1s 152ms/step - loss: 0.4512\n",
            "Epoch 79/400\n",
            "7/7 [==============================] - 1s 190ms/step - loss: 0.4333\n",
            "Epoch 80/400\n",
            "7/7 [==============================] - 1s 126ms/step - loss: 0.3996\n",
            "Epoch 81/400\n",
            "7/7 [==============================] - 1s 160ms/step - loss: 0.3791\n",
            "Epoch 82/400\n",
            "7/7 [==============================] - 1s 150ms/step - loss: 0.3608\n",
            "Epoch 83/400\n",
            "7/7 [==============================] - 1s 127ms/step - loss: 0.3428\n",
            "Epoch 84/400\n",
            "7/7 [==============================] - 1s 160ms/step - loss: 0.3283\n",
            "Epoch 85/400\n",
            "7/7 [==============================] - 1s 152ms/step - loss: 0.3114\n",
            "Epoch 86/400\n",
            "7/7 [==============================] - 1s 127ms/step - loss: 0.2969\n",
            "Epoch 87/400\n",
            "7/7 [==============================] - 1s 160ms/step - loss: 0.2877\n",
            "Epoch 88/400\n",
            "7/7 [==============================] - 1s 151ms/step - loss: 0.2750\n",
            "Epoch 89/400\n",
            "7/7 [==============================] - 1s 129ms/step - loss: 0.2622\n",
            "Epoch 90/400\n",
            "7/7 [==============================] - 1s 159ms/step - loss: 0.2546\n",
            "Epoch 91/400\n",
            "7/7 [==============================] - 1s 153ms/step - loss: 0.2450\n",
            "Epoch 92/400\n",
            "7/7 [==============================] - 1s 128ms/step - loss: 0.2385\n",
            "Epoch 93/400\n",
            "7/7 [==============================] - 1s 161ms/step - loss: 0.2374\n",
            "Epoch 94/400\n",
            "7/7 [==============================] - 1s 153ms/step - loss: 0.2284\n",
            "Epoch 95/400\n",
            "7/7 [==============================] - 1s 171ms/step - loss: 0.2195\n",
            "Epoch 96/400\n",
            "7/7 [==============================] - 1s 128ms/step - loss: 0.2151\n",
            "Epoch 97/400\n",
            "7/7 [==============================] - 1s 127ms/step - loss: 0.2128\n",
            "Epoch 98/400\n",
            "7/7 [==============================] - 1s 161ms/step - loss: 0.2073\n",
            "Epoch 99/400\n",
            "7/7 [==============================] - 1s 136ms/step - loss: 0.1978\n",
            "Epoch 100/400\n",
            "7/7 [==============================] - 1s 126ms/step - loss: 0.1999\n",
            "Epoch 101/400\n",
            "7/7 [==============================] - 1s 160ms/step - loss: 0.1948\n",
            "Epoch 102/400\n",
            "7/7 [==============================] - 1s 128ms/step - loss: 0.1893\n",
            "Epoch 103/400\n",
            "7/7 [==============================] - 1s 161ms/step - loss: 0.1887\n",
            "Epoch 104/400\n",
            "7/7 [==============================] - 1s 153ms/step - loss: 0.1874\n",
            "Epoch 105/400\n",
            "7/7 [==============================] - 1s 168ms/step - loss: 0.1867\n",
            "Epoch 106/400\n",
            "7/7 [==============================] - 1s 159ms/step - loss: 0.1819\n",
            "Epoch 107/400\n",
            "7/7 [==============================] - 1s 127ms/step - loss: 0.1806\n",
            "Epoch 108/400\n",
            "7/7 [==============================] - 1s 159ms/step - loss: 0.1752\n",
            "Epoch 109/400\n",
            "7/7 [==============================] - 1s 154ms/step - loss: 0.1722\n",
            "Epoch 110/400\n",
            "7/7 [==============================] - 1s 125ms/step - loss: 0.1713\n",
            "Epoch 111/400\n",
            "7/7 [==============================] - 1s 155ms/step - loss: 0.1664\n",
            "Epoch 112/400\n",
            "7/7 [==============================] - 1s 153ms/step - loss: 0.1668\n",
            "Epoch 113/400\n",
            "7/7 [==============================] - 1s 201ms/step - loss: 0.1625\n",
            "Epoch 114/400\n",
            "7/7 [==============================] - 1s 126ms/step - loss: 0.1645\n",
            "Epoch 115/400\n",
            "7/7 [==============================] - 1s 159ms/step - loss: 0.1625\n",
            "Epoch 116/400\n",
            "7/7 [==============================] - 1s 152ms/step - loss: 0.1577\n",
            "Epoch 117/400\n",
            "7/7 [==============================] - 1s 190ms/step - loss: 0.1582\n",
            "Epoch 118/400\n",
            "7/7 [==============================] - 1s 125ms/step - loss: 0.1545\n",
            "Epoch 119/400\n",
            "7/7 [==============================] - 1s 159ms/step - loss: 0.1541\n",
            "Epoch 120/400\n",
            "7/7 [==============================] - 1s 154ms/step - loss: 0.1501\n",
            "Epoch 121/400\n",
            "7/7 [==============================] - 1s 126ms/step - loss: 0.1536\n",
            "Epoch 122/400\n",
            "7/7 [==============================] - 1s 159ms/step - loss: 0.1496\n",
            "Epoch 123/400\n",
            "7/7 [==============================] - 1s 153ms/step - loss: 0.1528\n",
            "Epoch 124/400\n",
            "7/7 [==============================] - 1s 130ms/step - loss: 0.1440\n",
            "Epoch 125/400\n",
            "7/7 [==============================] - 1s 127ms/step - loss: 0.1488\n",
            "Epoch 126/400\n",
            "7/7 [==============================] - 1s 160ms/step - loss: 0.1434\n",
            "Epoch 127/400\n",
            "7/7 [==============================] - 1s 154ms/step - loss: 0.1458\n",
            "Epoch 128/400\n",
            "7/7 [==============================] - 1s 171ms/step - loss: 0.1449\n",
            "Epoch 129/400\n",
            "7/7 [==============================] - 1s 126ms/step - loss: 0.1382\n",
            "Epoch 130/400\n",
            "7/7 [==============================] - 1s 160ms/step - loss: 0.1375\n",
            "Epoch 131/400\n",
            "7/7 [==============================] - 1s 126ms/step - loss: 0.1396\n",
            "Epoch 132/400\n",
            "7/7 [==============================] - 1s 158ms/step - loss: 0.1389\n",
            "Epoch 133/400\n",
            "7/7 [==============================] - 1s 153ms/step - loss: 0.1372\n",
            "Epoch 134/400\n",
            "7/7 [==============================] - 1s 126ms/step - loss: 0.1329\n",
            "Epoch 135/400\n",
            "7/7 [==============================] - 1s 160ms/step - loss: 0.1347\n",
            "Epoch 136/400\n",
            "7/7 [==============================] - 1s 148ms/step - loss: 0.1307\n",
            "Epoch 137/400\n",
            "7/7 [==============================] - 1s 125ms/step - loss: 0.1277\n",
            "Epoch 138/400\n",
            "7/7 [==============================] - 1s 161ms/step - loss: 0.1303\n",
            "Epoch 139/400\n",
            "7/7 [==============================] - 1s 127ms/step - loss: 0.1316\n",
            "Epoch 140/400\n",
            "7/7 [==============================] - 1s 160ms/step - loss: 0.1318\n",
            "Epoch 141/400\n",
            "7/7 [==============================] - 1s 153ms/step - loss: 0.1271\n",
            "Epoch 142/400\n",
            "7/7 [==============================] - 1s 127ms/step - loss: 0.1276\n",
            "Epoch 143/400\n",
            "7/7 [==============================] - 1s 161ms/step - loss: 0.1254\n",
            "Epoch 144/400\n",
            "7/7 [==============================] - 1s 152ms/step - loss: 0.1232\n",
            "Epoch 145/400\n",
            "7/7 [==============================] - 1s 127ms/step - loss: 0.1242\n",
            "Epoch 146/400\n",
            "7/7 [==============================] - 1s 160ms/step - loss: 0.1302\n",
            "Epoch 147/400\n",
            "7/7 [==============================] - 1s 125ms/step - loss: 0.1237\n",
            "Epoch 148/400\n",
            "7/7 [==============================] - 1s 161ms/step - loss: 0.1233\n",
            "Epoch 149/400\n",
            "7/7 [==============================] - 1s 126ms/step - loss: 0.1225\n",
            "Epoch 150/400\n",
            "7/7 [==============================] - 1s 160ms/step - loss: 0.1266\n",
            "Epoch 151/400\n",
            "7/7 [==============================] - 1s 151ms/step - loss: 0.1237\n",
            "Epoch 152/400\n",
            "7/7 [==============================] - 1s 170ms/step - loss: 0.1192\n",
            "Epoch 153/400\n",
            "7/7 [==============================] - 1s 125ms/step - loss: 0.1203\n",
            "Epoch 154/400\n",
            "7/7 [==============================] - 1s 160ms/step - loss: 0.1193\n",
            "Epoch 155/400\n",
            "7/7 [==============================] - 1s 152ms/step - loss: 0.1198\n",
            "Epoch 156/400\n",
            "7/7 [==============================] - 1s 127ms/step - loss: 0.1150\n",
            "Epoch 157/400\n",
            "7/7 [==============================] - 1s 160ms/step - loss: 0.1199\n",
            "Epoch 158/400\n",
            "7/7 [==============================] - 1s 153ms/step - loss: 0.1162\n",
            "Epoch 159/400\n",
            "7/7 [==============================] - 1s 126ms/step - loss: 0.1166\n",
            "Epoch 160/400\n",
            "7/7 [==============================] - 1s 159ms/step - loss: 0.1127\n",
            "Epoch 161/400\n",
            "7/7 [==============================] - 1s 128ms/step - loss: 0.1148\n",
            "Epoch 162/400\n",
            "7/7 [==============================] - 1s 155ms/step - loss: 0.1140\n",
            "Epoch 163/400\n",
            "7/7 [==============================] - 1s 154ms/step - loss: 0.1121\n",
            "Epoch 164/400\n",
            "7/7 [==============================] - 1s 171ms/step - loss: 0.1131\n",
            "Epoch 165/400\n",
            "7/7 [==============================] - 1s 161ms/step - loss: 0.1094\n",
            "Epoch 166/400\n",
            "7/7 [==============================] - 1s 124ms/step - loss: 0.1084\n",
            "Epoch 167/400\n",
            "7/7 [==============================] - 1s 160ms/step - loss: 0.1130\n",
            "Epoch 168/400\n",
            "7/7 [==============================] - 1s 152ms/step - loss: 0.1108\n",
            "Epoch 169/400\n",
            "7/7 [==============================] - 1s 185ms/step - loss: 0.1112\n",
            "Epoch 170/400\n",
            "7/7 [==============================] - 1s 126ms/step - loss: 0.1096\n",
            "Epoch 171/400\n",
            "7/7 [==============================] - 1s 160ms/step - loss: 0.1081\n",
            "Epoch 172/400\n",
            "7/7 [==============================] - 1s 155ms/step - loss: 0.1080\n",
            "Epoch 173/400\n",
            "7/7 [==============================] - 1s 192ms/step - loss: 0.1046\n",
            "Epoch 174/400\n",
            "7/7 [==============================] - 1s 127ms/step - loss: 0.1057\n",
            "Epoch 175/400\n",
            "7/7 [==============================] - 1s 160ms/step - loss: 0.1098\n",
            "Epoch 176/400\n",
            "7/7 [==============================] - 1s 154ms/step - loss: 0.1052\n",
            "Epoch 177/400\n",
            "7/7 [==============================] - 1s 180ms/step - loss: 0.1059\n",
            "Epoch 178/400\n",
            "7/7 [==============================] - 1s 126ms/step - loss: 0.1044\n",
            "Epoch 179/400\n",
            "7/7 [==============================] - 1s 160ms/step - loss: 0.1018\n",
            "Epoch 180/400\n",
            "7/7 [==============================] - 1s 134ms/step - loss: 0.1089\n",
            "Epoch 181/400\n",
            "7/7 [==============================] - 1s 160ms/step - loss: 0.1020\n",
            "Epoch 182/400\n",
            "7/7 [==============================] - 1s 128ms/step - loss: 0.1048\n",
            "Epoch 183/400\n",
            "7/7 [==============================] - 1s 158ms/step - loss: 0.1018\n",
            "Epoch 184/400\n",
            "7/7 [==============================] - 1s 150ms/step - loss: 0.1039\n",
            "Epoch 185/400\n",
            "7/7 [==============================] - 1s 126ms/step - loss: 0.1008\n",
            "Epoch 186/400\n",
            "7/7 [==============================] - 1s 160ms/step - loss: 0.1011\n",
            "Epoch 187/400\n",
            "7/7 [==============================] - 1s 153ms/step - loss: 0.0989\n",
            "Epoch 188/400\n",
            "7/7 [==============================] - 1s 135ms/step - loss: 0.1002\n",
            "Epoch 189/400\n",
            "7/7 [==============================] - 1s 126ms/step - loss: 0.1017\n",
            "Epoch 190/400\n",
            "7/7 [==============================] - 1s 160ms/step - loss: 0.0981\n",
            "Epoch 191/400\n",
            "7/7 [==============================] - 1s 126ms/step - loss: 0.0963\n",
            "Epoch 192/400\n",
            "7/7 [==============================] - 1s 159ms/step - loss: 0.1005\n",
            "Epoch 193/400\n",
            "7/7 [==============================] - 1s 154ms/step - loss: 0.0981\n",
            "Epoch 194/400\n",
            "7/7 [==============================] - 1s 189ms/step - loss: 0.0981\n",
            "Epoch 195/400\n",
            "7/7 [==============================] - 1s 127ms/step - loss: 0.0930\n",
            "Epoch 196/400\n",
            "7/7 [==============================] - 1s 161ms/step - loss: 0.0986\n",
            "Epoch 197/400\n",
            "7/7 [==============================] - 1s 149ms/step - loss: 0.0991\n",
            "Epoch 198/400\n",
            "7/7 [==============================] - 1s 128ms/step - loss: 0.0978\n",
            "Epoch 199/400\n",
            "7/7 [==============================] - 1s 159ms/step - loss: 0.0956\n",
            "Epoch 200/400\n",
            "7/7 [==============================] - 1s 153ms/step - loss: 0.0961\n",
            "Epoch 201/400\n",
            "7/7 [==============================] - 1s 127ms/step - loss: 0.0958\n",
            "Epoch 202/400\n",
            "7/7 [==============================] - 1s 160ms/step - loss: 0.0959\n",
            "Epoch 203/400\n",
            "7/7 [==============================] - 1s 149ms/step - loss: 0.0955\n",
            "Epoch 204/400\n",
            "7/7 [==============================] - 1s 131ms/step - loss: 0.0950\n",
            "Epoch 205/400\n",
            "7/7 [==============================] - 1s 129ms/step - loss: 0.0961\n",
            "Epoch 206/400\n",
            "7/7 [==============================] - 1s 159ms/step - loss: 0.0948\n",
            "Epoch 207/400\n",
            "7/7 [==============================] - 1s 152ms/step - loss: 0.0934\n",
            "Epoch 208/400\n",
            "7/7 [==============================] - 1s 128ms/step - loss: 0.0930\n",
            "Epoch 209/400\n",
            "7/7 [==============================] - 1s 161ms/step - loss: 0.0932\n",
            "Epoch 210/400\n",
            "7/7 [==============================] - 1s 152ms/step - loss: 0.0930\n",
            "Epoch 211/400\n",
            "7/7 [==============================] - 1s 212ms/step - loss: 0.0906\n",
            "Epoch 212/400\n",
            "7/7 [==============================] - 1s 127ms/step - loss: 0.0945\n",
            "Epoch 213/400\n",
            "7/7 [==============================] - 1s 160ms/step - loss: 0.0902\n",
            "Epoch 214/400\n",
            "7/7 [==============================] - 1s 153ms/step - loss: 0.0916\n",
            "Epoch 215/400\n",
            "7/7 [==============================] - 1s 128ms/step - loss: 0.0900\n",
            "Epoch 216/400\n",
            "7/7 [==============================] - 1s 162ms/step - loss: 0.0901\n",
            "Epoch 217/400\n",
            "7/7 [==============================] - 1s 153ms/step - loss: 0.0934\n",
            "Epoch 218/400\n",
            "7/7 [==============================] - 1s 135ms/step - loss: 0.0907\n",
            "Epoch 219/400\n",
            "7/7 [==============================] - 1s 128ms/step - loss: 0.0913\n",
            "Epoch 220/400\n",
            "7/7 [==============================] - 1s 160ms/step - loss: 0.0884\n",
            "Epoch 221/400\n",
            "7/7 [==============================] - 1s 150ms/step - loss: 0.0908\n",
            "Epoch 222/400\n",
            "7/7 [==============================] - 1s 129ms/step - loss: 0.0899\n",
            "Epoch 223/400\n",
            "7/7 [==============================] - 1s 157ms/step - loss: 0.0868\n",
            "Epoch 224/400\n",
            "7/7 [==============================] - 1s 153ms/step - loss: 0.0937\n",
            "Epoch 225/400\n",
            "7/7 [==============================] - 1s 129ms/step - loss: 0.0883\n",
            "Epoch 226/400\n",
            "7/7 [==============================] - 1s 159ms/step - loss: 0.0870\n",
            "Epoch 227/400\n",
            "7/7 [==============================] - 1s 151ms/step - loss: 0.0885\n",
            "Epoch 228/400\n",
            "7/7 [==============================] - 1s 169ms/step - loss: 0.0864\n",
            "Epoch 229/400\n",
            "7/7 [==============================] - 1s 161ms/step - loss: 0.0882\n",
            "Epoch 230/400\n",
            "7/7 [==============================] - 1s 150ms/step - loss: 0.0887\n",
            "Epoch 231/400\n",
            "7/7 [==============================] - 1s 129ms/step - loss: 0.0869\n",
            "Epoch 232/400\n",
            "7/7 [==============================] - 1s 128ms/step - loss: 0.0854\n",
            "Epoch 233/400\n",
            "7/7 [==============================] - 1s 160ms/step - loss: 0.0852\n",
            "Epoch 234/400\n",
            "7/7 [==============================] - 1s 153ms/step - loss: 0.0855\n",
            "Epoch 235/400\n",
            "7/7 [==============================] - 1s 137ms/step - loss: 0.0857\n",
            "Epoch 236/400\n",
            "7/7 [==============================] - 1s 127ms/step - loss: 0.0859\n",
            "Epoch 237/400\n",
            "7/7 [==============================] - 1s 160ms/step - loss: 0.0867\n",
            "Epoch 238/400\n",
            "7/7 [==============================] - 1s 128ms/step - loss: 0.0857\n",
            "Epoch 239/400\n",
            "7/7 [==============================] - 1s 160ms/step - loss: 0.0858\n",
            "Epoch 240/400\n",
            "7/7 [==============================] - 1s 152ms/step - loss: 0.0887\n",
            "Epoch 241/400\n",
            "7/7 [==============================] - 1s 169ms/step - loss: 0.0872\n",
            "Epoch 242/400\n",
            "7/7 [==============================] - 1s 160ms/step - loss: 0.0866\n",
            "Epoch 243/400\n",
            "7/7 [==============================] - 1s 152ms/step - loss: 0.0869\n",
            "Epoch 244/400\n",
            "7/7 [==============================] - 1s 133ms/step - loss: 0.0842\n",
            "Epoch 245/400\n",
            "7/7 [==============================] - 1s 127ms/step - loss: 0.0852\n",
            "Epoch 246/400\n",
            "7/7 [==============================] - 1s 155ms/step - loss: 0.0816\n",
            "Epoch 247/400\n",
            "7/7 [==============================] - 1s 148ms/step - loss: 0.0841\n",
            "Epoch 248/400\n",
            "7/7 [==============================] - 1s 141ms/step - loss: 0.0834\n",
            "Epoch 249/400\n",
            "7/7 [==============================] - 1s 130ms/step - loss: 0.0828\n",
            "Epoch 250/400\n",
            "7/7 [==============================] - 1s 155ms/step - loss: 0.0835\n",
            "Epoch 251/400\n",
            "7/7 [==============================] - 1s 150ms/step - loss: 0.0801\n",
            "Epoch 252/400\n",
            "7/7 [==============================] - 1s 162ms/step - loss: 0.0845\n",
            "Epoch 253/400\n",
            "7/7 [==============================] - 1s 186ms/step - loss: 0.0862\n",
            "Epoch 254/400\n",
            "7/7 [==============================] - 1s 126ms/step - loss: 0.0834\n",
            "Epoch 255/400\n",
            "7/7 [==============================] - 1s 158ms/step - loss: 0.0852\n",
            "Epoch 256/400\n",
            "7/7 [==============================] - 1s 125ms/step - loss: 0.0819\n",
            "Epoch 257/400\n",
            "7/7 [==============================] - 1s 158ms/step - loss: 0.0843\n",
            "Epoch 258/400\n",
            "7/7 [==============================] - 1s 153ms/step - loss: 0.0817\n",
            "Epoch 259/400\n",
            "7/7 [==============================] - 1s 172ms/step - loss: 0.0834\n",
            "Epoch 260/400\n",
            "7/7 [==============================] - 1s 125ms/step - loss: 0.0823\n",
            "Epoch 261/400\n",
            "7/7 [==============================] - 1s 158ms/step - loss: 0.0793\n",
            "Epoch 262/400\n",
            "7/7 [==============================] - 1s 127ms/step - loss: 0.0794\n",
            "Epoch 263/400\n",
            "7/7 [==============================] - 1s 160ms/step - loss: 0.0796\n",
            "Epoch 264/400\n",
            "7/7 [==============================] - 1s 152ms/step - loss: 0.0800\n",
            "Epoch 265/400\n",
            "7/7 [==============================] - 1s 126ms/step - loss: 0.0810\n",
            "Epoch 266/400\n",
            "7/7 [==============================] - 1s 161ms/step - loss: 0.0813\n",
            "Epoch 267/400\n",
            "7/7 [==============================] - 1s 153ms/step - loss: 0.0779\n",
            "Epoch 268/400\n",
            "7/7 [==============================] - 1s 133ms/step - loss: 0.0792\n",
            "Epoch 269/400\n",
            "7/7 [==============================] - 1s 128ms/step - loss: 0.0804\n",
            "Epoch 270/400\n",
            "7/7 [==============================] - 1s 159ms/step - loss: 0.0831\n",
            "Epoch 271/400\n",
            "7/7 [==============================] - 1s 126ms/step - loss: 0.0815\n",
            "Epoch 272/400\n",
            "7/7 [==============================] - 1s 159ms/step - loss: 0.0771\n",
            "Epoch 273/400\n",
            "7/7 [==============================] - 1s 155ms/step - loss: 0.0770\n",
            "Epoch 274/400\n",
            "7/7 [==============================] - 1s 169ms/step - loss: 0.0754\n",
            "Epoch 275/400\n",
            "7/7 [==============================] - 1s 160ms/step - loss: 0.0756\n",
            "Epoch 276/400\n",
            "7/7 [==============================] - 1s 155ms/step - loss: 0.0755\n",
            "Epoch 277/400\n",
            "7/7 [==============================] - 1s 135ms/step - loss: 0.0773\n",
            "Epoch 278/400\n",
            "7/7 [==============================] - 1s 128ms/step - loss: 0.0748\n",
            "Epoch 279/400\n",
            "7/7 [==============================] - 1s 159ms/step - loss: 0.0768\n",
            "Epoch 280/400\n",
            "7/7 [==============================] - 1s 152ms/step - loss: 0.0779\n",
            "Epoch 281/400\n",
            "7/7 [==============================] - 1s 134ms/step - loss: 0.0762\n",
            "Epoch 282/400\n",
            "7/7 [==============================] - 1s 126ms/step - loss: 0.0785\n",
            "Epoch 283/400\n",
            "7/7 [==============================] - 1s 160ms/step - loss: 0.0762\n",
            "Epoch 284/400\n",
            "7/7 [==============================] - 1s 153ms/step - loss: 0.0773\n",
            "Epoch 285/400\n",
            "7/7 [==============================] - 1s 168ms/step - loss: 0.0775\n",
            "Epoch 286/400\n",
            "7/7 [==============================] - 1s 128ms/step - loss: 0.0754\n",
            "Epoch 287/400\n",
            "7/7 [==============================] - 1s 160ms/step - loss: 0.0764\n",
            "Epoch 288/400\n",
            "7/7 [==============================] - 1s 125ms/step - loss: 0.0774\n",
            "Epoch 289/400\n",
            "7/7 [==============================] - 1s 160ms/step - loss: 0.0750\n",
            "Epoch 290/400\n",
            "7/7 [==============================] - 1s 153ms/step - loss: 0.0763\n",
            "Epoch 291/400\n",
            "7/7 [==============================] - 1s 129ms/step - loss: 0.0752\n",
            "Epoch 292/400\n",
            "7/7 [==============================] - 1s 128ms/step - loss: 0.0726\n",
            "Epoch 293/400\n",
            "7/7 [==============================] - 1s 144ms/step - loss: 0.0759\n",
            "Epoch 294/400\n",
            "7/7 [==============================] - 1s 136ms/step - loss: 0.0737\n",
            "Epoch 295/400\n",
            "7/7 [==============================] - 1s 127ms/step - loss: 0.0765\n",
            "Epoch 296/400\n",
            "7/7 [==============================] - 1s 163ms/step - loss: 0.0743\n",
            "Epoch 297/400\n",
            "7/7 [==============================] - 1s 127ms/step - loss: 0.0725\n",
            "Epoch 298/400\n",
            "7/7 [==============================] - 1s 160ms/step - loss: 0.0720\n",
            "Epoch 299/400\n",
            "7/7 [==============================] - 1s 149ms/step - loss: 0.0700\n",
            "Epoch 300/400\n",
            "7/7 [==============================] - 1s 166ms/step - loss: 0.0726\n",
            "Epoch 301/400\n",
            "7/7 [==============================] - 1s 159ms/step - loss: 0.0714\n",
            "Epoch 302/400\n",
            "7/7 [==============================] - 1s 154ms/step - loss: 0.0750\n",
            "Epoch 303/400\n",
            "7/7 [==============================] - 1s 130ms/step - loss: 0.0753\n",
            "Epoch 304/400\n",
            "7/7 [==============================] - 1s 155ms/step - loss: 0.0775\n",
            "Epoch 305/400\n",
            "7/7 [==============================] - 1s 132ms/step - loss: 0.0727\n",
            "Epoch 306/400\n",
            "7/7 [==============================] - 1s 127ms/step - loss: 0.0704\n",
            "Epoch 307/400\n",
            "7/7 [==============================] - 1s 161ms/step - loss: 0.0739\n",
            "Epoch 308/400\n",
            "7/7 [==============================] - 1s 213ms/step - loss: 0.0699\n",
            "Epoch 309/400\n",
            "7/7 [==============================] - 1s 125ms/step - loss: 0.0704\n",
            "Epoch 310/400\n",
            "7/7 [==============================] - 1s 160ms/step - loss: 0.0752\n",
            "Epoch 311/400\n",
            "7/7 [==============================] - 1s 153ms/step - loss: 0.0723\n",
            "Epoch 312/400\n",
            "7/7 [==============================] - 1s 188ms/step - loss: 0.0731\n",
            "Epoch 313/400\n",
            "7/7 [==============================] - 1s 127ms/step - loss: 0.0736\n",
            "Epoch 314/400\n",
            "7/7 [==============================] - 1s 160ms/step - loss: 0.0759\n",
            "Epoch 315/400\n",
            "7/7 [==============================] - 1s 153ms/step - loss: 0.0716\n",
            "Epoch 316/400\n",
            "7/7 [==============================] - 1s 192ms/step - loss: 0.0739\n",
            "Epoch 317/400\n",
            "7/7 [==============================] - 1s 128ms/step - loss: 0.0726\n",
            "Epoch 318/400\n",
            "7/7 [==============================] - 1s 160ms/step - loss: 0.0738\n",
            "Epoch 319/400\n",
            "7/7 [==============================] - 1s 150ms/step - loss: 0.0704\n",
            "Epoch 320/400\n",
            "7/7 [==============================] - 1s 127ms/step - loss: 0.0724\n",
            "Epoch 321/400\n",
            "7/7 [==============================] - 1s 158ms/step - loss: 0.0736\n",
            "Epoch 322/400\n",
            "7/7 [==============================] - 1s 128ms/step - loss: 0.0705\n",
            "Epoch 323/400\n",
            "7/7 [==============================] - 1s 157ms/step - loss: 0.0697\n",
            "Epoch 324/400\n",
            "7/7 [==============================] - 1s 148ms/step - loss: 0.0716\n",
            "Epoch 325/400\n",
            "7/7 [==============================] - 1s 127ms/step - loss: 0.0722\n",
            "Epoch 326/400\n",
            "7/7 [==============================] - 1s 161ms/step - loss: 0.0701\n",
            "Epoch 327/400\n",
            "7/7 [==============================] - 1s 153ms/step - loss: 0.0733\n",
            "Epoch 328/400\n",
            "7/7 [==============================] - 1s 128ms/step - loss: 0.0698\n",
            "Epoch 329/400\n",
            "7/7 [==============================] - 1s 158ms/step - loss: 0.0726\n",
            "Epoch 330/400\n",
            "7/7 [==============================] - 1s 127ms/step - loss: 0.0698\n",
            "Epoch 331/400\n",
            "7/7 [==============================] - 1s 159ms/step - loss: 0.0707\n",
            "Epoch 332/400\n",
            "7/7 [==============================] - 1s 151ms/step - loss: 0.0692\n",
            "Epoch 333/400\n",
            "7/7 [==============================] - 1s 128ms/step - loss: 0.0702\n",
            "Epoch 334/400\n",
            "7/7 [==============================] - 1s 156ms/step - loss: 0.0715\n",
            "Epoch 335/400\n",
            "7/7 [==============================] - 1s 151ms/step - loss: 0.0691\n",
            "Epoch 336/400\n",
            "7/7 [==============================] - 1s 130ms/step - loss: 0.0685\n",
            "Epoch 337/400\n",
            "7/7 [==============================] - 1s 161ms/step - loss: 0.0675\n",
            "Epoch 338/400\n",
            "7/7 [==============================] - 1s 153ms/step - loss: 0.0709\n",
            "Epoch 339/400\n",
            "7/7 [==============================] - 1s 126ms/step - loss: 0.0686\n",
            "Epoch 340/400\n",
            "7/7 [==============================] - 1s 160ms/step - loss: 0.0687\n",
            "Epoch 341/400\n",
            "7/7 [==============================] - 1s 153ms/step - loss: 0.0726\n",
            "Epoch 342/400\n",
            "7/7 [==============================] - 1s 134ms/step - loss: 0.0727\n",
            "Epoch 343/400\n",
            "7/7 [==============================] - 1s 128ms/step - loss: 0.0683\n",
            "Epoch 344/400\n",
            "7/7 [==============================] - 1s 159ms/step - loss: 0.0696\n",
            "Epoch 345/400\n",
            "7/7 [==============================] - 1s 152ms/step - loss: 0.0701\n",
            "Epoch 346/400\n",
            "7/7 [==============================] - 1s 125ms/step - loss: 0.0697\n",
            "Epoch 347/400\n",
            "7/7 [==============================] - 1s 159ms/step - loss: 0.0701\n",
            "Epoch 348/400\n",
            "7/7 [==============================] - 1s 153ms/step - loss: 0.0690\n",
            "Epoch 349/400\n",
            "7/7 [==============================] - 1s 165ms/step - loss: 0.0679\n",
            "Epoch 350/400\n",
            "7/7 [==============================] - 1s 126ms/step - loss: 0.0687\n",
            "Epoch 351/400\n",
            "7/7 [==============================] - 1s 159ms/step - loss: 0.0715\n",
            "Epoch 352/400\n",
            "7/7 [==============================] - 1s 126ms/step - loss: 0.0696\n",
            "Epoch 353/400\n",
            "7/7 [==============================] - 1s 160ms/step - loss: 0.0681\n",
            "Epoch 354/400\n",
            "7/7 [==============================] - 1s 151ms/step - loss: 0.0677\n",
            "Epoch 355/400\n",
            "7/7 [==============================] - 1s 126ms/step - loss: 0.0698\n",
            "Epoch 356/400\n",
            "7/7 [==============================] - 1s 160ms/step - loss: 0.0678\n",
            "Epoch 357/400\n",
            "7/7 [==============================] - 1s 152ms/step - loss: 0.0668\n",
            "Epoch 358/400\n",
            "7/7 [==============================] - 1s 167ms/step - loss: 0.0659\n",
            "Epoch 359/400\n",
            "7/7 [==============================] - 1s 158ms/step - loss: 0.0675\n",
            "Epoch 360/400\n",
            "7/7 [==============================] - 1s 127ms/step - loss: 0.0673\n",
            "Epoch 361/400\n",
            "7/7 [==============================] - 1s 159ms/step - loss: 0.0685\n",
            "Epoch 362/400\n",
            "7/7 [==============================] - 1s 154ms/step - loss: 0.0697\n",
            "Epoch 363/400\n",
            "7/7 [==============================] - 1s 168ms/step - loss: 0.0679\n",
            "Epoch 364/400\n",
            "7/7 [==============================] - 1s 161ms/step - loss: 0.0655\n",
            "Epoch 365/400\n",
            "7/7 [==============================] - 1s 149ms/step - loss: 0.0671\n",
            "Epoch 366/400\n",
            "7/7 [==============================] - 1s 125ms/step - loss: 0.0692\n",
            "Epoch 367/400\n",
            "7/7 [==============================] - 1s 160ms/step - loss: 0.0664\n",
            "Epoch 368/400\n",
            "7/7 [==============================] - 1s 129ms/step - loss: 0.0665\n",
            "Epoch 369/400\n",
            "7/7 [==============================] - 1s 159ms/step - loss: 0.0666\n",
            "Epoch 370/400\n",
            "7/7 [==============================] - 1s 154ms/step - loss: 0.0676\n",
            "Epoch 371/400\n",
            "7/7 [==============================] - 1s 127ms/step - loss: 0.0685\n",
            "Epoch 372/400\n",
            "7/7 [==============================] - 1s 159ms/step - loss: 0.0647\n",
            "Epoch 373/400\n",
            "7/7 [==============================] - 1s 153ms/step - loss: 0.0677\n",
            "Epoch 374/400\n",
            "7/7 [==============================] - 1s 133ms/step - loss: 0.0673\n",
            "Epoch 375/400\n",
            "7/7 [==============================] - 1s 127ms/step - loss: 0.0692\n",
            "Epoch 376/400\n",
            "7/7 [==============================] - 1s 161ms/step - loss: 0.0684\n",
            "Epoch 377/400\n",
            "7/7 [==============================] - 1s 128ms/step - loss: 0.0687\n",
            "Epoch 378/400\n",
            "7/7 [==============================] - 1s 160ms/step - loss: 0.0657\n",
            "Epoch 379/400\n",
            "7/7 [==============================] - 1s 155ms/step - loss: 0.0653\n",
            "Epoch 380/400\n",
            "7/7 [==============================] - 1s 170ms/step - loss: 0.0662\n",
            "Epoch 381/400\n",
            "7/7 [==============================] - 1s 160ms/step - loss: 0.0671\n",
            "Epoch 382/400\n",
            "7/7 [==============================] - 1s 153ms/step - loss: 0.0645\n",
            "Epoch 383/400\n",
            "7/7 [==============================] - 1s 143ms/step - loss: 0.0672\n",
            "Epoch 384/400\n",
            "7/7 [==============================] - 1s 130ms/step - loss: 0.0664\n",
            "Epoch 385/400\n",
            "7/7 [==============================] - 1s 155ms/step - loss: 0.0666\n",
            "Epoch 386/400\n",
            "7/7 [==============================] - 1s 152ms/step - loss: 0.0665\n",
            "Epoch 387/400\n",
            "7/7 [==============================] - 1s 133ms/step - loss: 0.0669\n",
            "Epoch 388/400\n",
            "7/7 [==============================] - 1s 130ms/step - loss: 0.0648\n",
            "Epoch 389/400\n",
            "7/7 [==============================] - 1s 158ms/step - loss: 0.0664\n",
            "Epoch 390/400\n",
            "7/7 [==============================] - 1s 127ms/step - loss: 0.0676\n",
            "Epoch 391/400\n",
            "7/7 [==============================] - 1s 160ms/step - loss: 0.0684\n",
            "Epoch 392/400\n",
            "7/7 [==============================] - 1s 152ms/step - loss: 0.0644\n",
            "Epoch 393/400\n",
            "7/7 [==============================] - 1s 194ms/step - loss: 0.0660\n",
            "Epoch 394/400\n",
            "7/7 [==============================] - 1s 126ms/step - loss: 0.0631\n",
            "Epoch 395/400\n",
            "7/7 [==============================] - 1s 161ms/step - loss: 0.0657\n",
            "Epoch 396/400\n",
            "7/7 [==============================] - 1s 154ms/step - loss: 0.0673\n",
            "Epoch 397/400\n",
            "7/7 [==============================] - 1s 127ms/step - loss: 0.0649\n",
            "Epoch 398/400\n",
            "7/7 [==============================] - 1s 160ms/step - loss: 0.0649\n",
            "Epoch 399/400\n",
            "7/7 [==============================] - 1s 154ms/step - loss: 0.0652\n",
            "Epoch 400/400\n",
            "7/7 [==============================] - 1s 135ms/step - loss: 0.0676\n"
          ],
          "name": "stdout"
        }
      ]
    },
    {
      "cell_type": "code",
      "metadata": {
        "id": "use9Td6i8yXJ",
        "colab": {
          "base_uri": "https://localhost:8080/",
          "height": 255
        },
        "outputId": "cc251ab9-7142-4526-db4a-19ff4117833d"
      },
      "source": [
        "tf.train.latest_checkpoint(checkpoint_dir)\n",
        "\n",
        "model = build_model(vocab_size, embedding_dim, rnn_units, batch_size=1)\n",
        "model.load_weights(tf.train.latest_checkpoint(checkpoint_dir))\n",
        "model.build(tf.TensorShape([1, None]))\n",
        "\n",
        "model.summary()"
      ],
      "execution_count": null,
      "outputs": [
        {
          "output_type": "stream",
          "text": [
            "Model: \"sequential_1\"\n",
            "_________________________________________________________________\n",
            "Layer (type)                 Output Shape              Param #   \n",
            "=================================================================\n",
            "embedding_1 (Embedding)      (1, None, 256)            17664     \n",
            "_________________________________________________________________\n",
            "gru_1 (GRU)                  (1, None, 1024)           3938304   \n",
            "_________________________________________________________________\n",
            "dense_1 (Dense)              (1, None, 69)             70725     \n",
            "=================================================================\n",
            "Total params: 4,026,693\n",
            "Trainable params: 4,026,693\n",
            "Non-trainable params: 0\n",
            "_________________________________________________________________\n"
          ],
          "name": "stdout"
        }
      ]
    },
    {
      "cell_type": "code",
      "metadata": {
        "id": "0iRR_x-e89Cw"
      },
      "source": [
        "def generate_text(model, start_string):\n",
        "  # Evaluation step (generating text using the learned model)\n",
        "\n",
        "  # Number of characters to generate\n",
        "  num_generate = 1000\n",
        "\n",
        "  # Converting our start string to numbers (vectorizing)\n",
        "  input_eval = [char2idx[s] for s in start_string]\n",
        "  input_eval = tf.expand_dims(input_eval, 0)\n",
        "\n",
        "  # Empty string to store our results\n",
        "  text_generated = []\n",
        "\n",
        "  # Low temperatures results in more predictable text.\n",
        "  # Higher temperatures results in more surprising text.\n",
        "  # Experiment to find the best setting.\n",
        "  temperature = 1.0\n",
        "\n",
        "  # Here batch size == 1\n",
        "  model.reset_states()\n",
        "  for i in range(num_generate):\n",
        "      predictions = model(input_eval)\n",
        "      # remove the batch dimension\n",
        "      predictions = tf.squeeze(predictions, 0)\n",
        "\n",
        "      # using a categorical distribution to predict the character returned by the model\n",
        "      predictions = predictions / temperature\n",
        "      predicted_id = tf.random.categorical(predictions, num_samples=1)[-1,0].numpy()\n",
        "\n",
        "      # We pass the predicted character as the next input to the model\n",
        "      # along with the previous hidden state\n",
        "      input_eval = tf.expand_dims([predicted_id], 0)\n",
        "\n",
        "      text_generated.append(idx2char[predicted_id])\n",
        "\n",
        "  return (start_string + ''.join(text_generated))"
      ],
      "execution_count": null,
      "outputs": []
    },
    {
      "cell_type": "code",
      "metadata": {
        "id": "gHW2p8Rb_ttj",
        "colab": {
          "base_uri": "https://localhost:8080/",
          "height": 54
        },
        "outputId": "638139d6-d1b7-46a7-c671-cac6798214dd"
      },
      "source": [
        "print(generate_text(model, start_string=\" \"))"
      ],
      "execution_count": null,
      "outputs": [
        {
          "output_type": "stream",
          "text": [
            " Ohappecentrath dake down! Pinhead. - Oheck out the new smoker. - Oh, sweet. That's the one you want. The Thomas 3000 Oh, my. Oould you get a nurse to close that window? - Why? - The smoke. Bet some on the riadecentrathe als? Restroom attendant's open, not for the reason you think. - Any chance of getting the Krelman? - Sut! She saved my life. I gotta say something. All right, here it goes. Nah. What would I say? I could re were friends. The last thing we want to do is upset bees! You're too late! It's ours now! You, sir, will be line! Thinking bee! Thinking bee! Thinking bee! - Vanessa, aim, varry, she have. I could say anything right now. I'm gonna get antennas inside the tram at all times. - Wonder what it'll be like? - A little scary. Welcome to Honey Farms. I am onto something huge here. I'm going to Alaska. Moose blood, crazy stuff. How those flowers! Wow! I'm out! I can't believe I'm on times? \"The surflearever? That's an insane choice to have to make. I'm relieved. Now we only h\n"
          ],
          "name": "stdout"
        }
      ]
    }
  ]
}